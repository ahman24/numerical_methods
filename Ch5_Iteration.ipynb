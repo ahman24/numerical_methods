{
 "cells": [
  {
   "cell_type": "markdown",
   "source": [
    "# Chapter 5: Iteration\r\n",
    "by [Arief Rahman Hakim](https://github.com/ahman24)\r\n",
    "\r\n",
    "\r\n",
    "## Solutions on Problems\r\n",
    "There are only a few of them I worked on."
   ],
   "metadata": {}
  },
  {
   "cell_type": "markdown",
   "source": [
    "### Q2\r\n",
    "Write a function `my_max(x)` to return the maximum (largest) value in `x`. Don’t use the built-in Python function max."
   ],
   "metadata": {}
  },
  {
   "cell_type": "code",
   "execution_count": 1,
   "source": [
    "def my_max(x):\r\n",
    "    max = x[1]\r\n",
    "    for i in range(len(x)):\r\n",
    "        if x[i] > max:\r\n",
    "            max = x[i]    \r\n",
    "    return max\r\n",
    "\r\n",
    "array = [1, 2, 3]\r\n",
    "my_max(array)"
   ],
   "outputs": [
    {
     "output_type": "execute_result",
     "data": {
      "text/plain": [
       "3"
      ]
     },
     "metadata": {},
     "execution_count": 1
    }
   ],
   "metadata": {}
  },
  {
   "cell_type": "markdown",
   "source": [
    "### Q3\r\n",
    "Write a function `my_n_max(x, n)` to return a list consisting of the `n largest elements of x`. You may use Python’s max function. You may also assume that `x` is a one-dimensional list with no duplicate entries, and that `n` is strictly positive integer smaller than the length of `x`"
   ],
   "metadata": {}
  },
  {
   "cell_type": "code",
   "execution_count": 2,
   "source": [
    "def my_n_max(x,n):\r\n",
    "    mx = []\r\n",
    "    for i in range(n):\r\n",
    "        mx.append(max(x))\r\n",
    "        x.remove(mx[i])\r\n",
    "    return mx\r\n",
    "\r\n",
    "x = [7, 9, 10, 5, 8, 3, 4, 6, 2, 1]\r\n",
    "my_n_max(x,2)"
   ],
   "outputs": [
    {
     "output_type": "execute_result",
     "data": {
      "text/plain": [
       "[10, 9]"
      ]
     },
     "metadata": {},
     "execution_count": 2
    }
   ],
   "metadata": {}
  },
  {
   "cell_type": "markdown",
   "source": [
    "### Q4\r\n",
    "Let `m` be a matrix of positive integers. Write a function `my_trig_odd_even(m)` to return an `array q`, where `q[i, j] = sin (m[i, j]) if m[i, j] is even`, and `q[i, j] = cos (m[i, j]) if m[i, j] is odd`."
   ],
   "metadata": {}
  },
  {
   "cell_type": "code",
   "execution_count": 3,
   "source": [
    "import math\r\n",
    "import numpy as np\r\n",
    "\r\n",
    "def my_trig_odd_even(m):\r\n",
    "    n_row, n_col = m.shape\r\n",
    "    q = np.zeros((n_row, n_col))\r\n",
    "    for row in range(n_row):\r\n",
    "        for col in range(n_col):\r\n",
    "            if m[row, col] % 2 == 0:\r\n",
    "                q[row, col] = math.sin(m[row,col])\r\n",
    "            else:\r\n",
    "                q[row, col] = math.cos(m[row,col])\r\n",
    "    \r\n",
    "    return q\r\n",
    "\r\n",
    "P = np.array([[1, 2, 3, 4], [5, 6, 7, 8]])\r\n",
    "a = my_trig_odd_even(P)\r\n",
    "a"
   ],
   "outputs": [
    {
     "output_type": "execute_result",
     "data": {
      "text/plain": [
       "array([[ 0.54030231,  0.90929743, -0.9899925 , -0.7568025 ],\n",
       "       [ 0.28366219, -0.2794155 ,  0.75390225,  0.98935825]])"
      ]
     },
     "metadata": {},
     "execution_count": 3
    }
   ],
   "metadata": {}
  },
  {
   "cell_type": "markdown",
   "source": [
    "### Q4\r\n",
    "Let `P` be an `m×p array` and `Q` be a `p×n` array. As you will find later in this book, `M=P×Q` is defined as `M[i,j]=∑pk=1P[i,k]⋅Q[k,j]`. \r\n",
    "Write a function `my_mat_mult(P, Q)` that `uses for-loops` to compute M, the matrix product of P and Q. \r\n",
    "Hint: You may need up to three nested for-loops. Do not use the function np.dot."
   ],
   "metadata": {}
  },
  {
   "cell_type": "code",
   "execution_count": 4,
   "source": [
    "def my_mat_mult(p,q):\r\n",
    "    n_row, n_col = p.shape\r\n",
    "    _, n_col_q = q.shape\r\n",
    "    m = np.zeros((n_row,n_col_q))\r\n",
    "    for row in range(n_row):\r\n",
    "        for col in range(n_col_q):\r\n",
    "            total = 0\r\n",
    "            for row_q in range(n_col):\r\n",
    "                total = total + p[row][row_q] * q[row_q][col]\r\n",
    "            m[row,col] = total\r\n",
    "    return m\r\n",
    "\r\n",
    "P = np.ones((3, 3))\r\n",
    "print(f'For the following matrix,')\r\n",
    "print(P)\r\n",
    "print(f'\\nThe P x P will yield,')\r\n",
    "value = my_mat_mult(P,P)\r\n",
    "print(value)\r\n",
    "\r\n",
    "P = np.array([[1, 2, 3, 4], [5, 6, 7, 8]])\r\n",
    "Q = np.array([[1, 1, 1], [2, 2, 2], [3, 3, 3], [4, 4, 4]])\r\n",
    "print(f'\\nFor the following matrix,')\r\n",
    "print(f'P,')\r\n",
    "print(P)\r\n",
    "print(f'Q,')\r\n",
    "print(Q)\r\n",
    "print(f'\\nThe P x Q will yield,')\r\n",
    "value = my_mat_mult(P,Q)\r\n",
    "print(value)"
   ],
   "outputs": [
    {
     "output_type": "stream",
     "name": "stdout",
     "text": [
      "For the following matrix,\n",
      "[[1. 1. 1.]\n",
      " [1. 1. 1.]\n",
      " [1. 1. 1.]]\n",
      "\n",
      "The P x P will yield,\n",
      "[[3. 3. 3.]\n",
      " [3. 3. 3.]\n",
      " [3. 3. 3.]]\n",
      "\n",
      "For the following matrix,\n",
      "P,\n",
      "[[1 2 3 4]\n",
      " [5 6 7 8]]\n",
      "Q,\n",
      "[[1 1 1]\n",
      " [2 2 2]\n",
      " [3 3 3]\n",
      " [4 4 4]]\n",
      "\n",
      "The P x Q will yield,\n",
      "[[30. 30. 30.]\n",
      " [70. 70. 70.]]\n"
     ]
    }
   ],
   "metadata": {}
  },
  {
   "cell_type": "markdown",
   "source": [
    "### Q5\r\n",
    "The interest, `i`, on a principle, `P0`, is a payment for allowing the bank to use your money. Compound interest is accumulated according to the formula,\r\n",
    "\r\n",
    "$Pn=(1+i)P_{n−1}$,\r\n",
    "\r\n",
    "`n` is the compounding period, usually in months or years. \r\n",
    "\r\n",
    "Write a function `my_saving_plan(P0, i, goal)` where the `output is the number of years` it will take `P0` to become `goal` at `i% interest` compounded annually."
   ],
   "metadata": {}
  },
  {
   "cell_type": "code",
   "execution_count": 5,
   "source": [
    "def my_saving_plan(p0, i, pn):\r\n",
    "    '''\r\n",
    "    p0 : Principal money\r\n",
    "    pn : Target money\r\n",
    "    i : interest per month\r\n",
    "    n : number of months to achieve\r\n",
    "    '''\r\n",
    "    n = 1\r\n",
    "    target = True\r\n",
    "    while target:\r\n",
    "        pn = (1 + i*n) * p0\r\n",
    "        if pn >= goal:\r\n",
    "            target = False\r\n",
    "        n = n+1\r\n",
    "    return n\r\n",
    "\r\n",
    "principal = 10_000_000\r\n",
    "interest = 0.04 / 12 # 4% interest per year\r\n",
    "goal = 100_000_000\r\n",
    "\r\n",
    "n_months = my_saving_plan(principal, interest, goal)\r\n",
    "print(f'To have the money of {principal} grows to {goal}, it takes {n_months} given an interest rate of {round(interest,3)}% per month')"
   ],
   "outputs": [
    {
     "output_type": "stream",
     "name": "stdout",
     "text": [
      "To have the money of 10000000 grows to 100000000, it takes 2701 given an interest rate of 0.003% per month\n"
     ]
    }
   ],
   "metadata": {}
  }
 ],
 "metadata": {
  "orig_nbformat": 4,
  "language_info": {
   "name": "python",
   "version": "3.8.10",
   "mimetype": "text/x-python",
   "codemirror_mode": {
    "name": "ipython",
    "version": 3
   },
   "pygments_lexer": "ipython3",
   "nbconvert_exporter": "python",
   "file_extension": ".py"
  },
  "kernelspec": {
   "name": "python3",
   "display_name": "Python 3.8.10 64-bit ('base': conda)"
  },
  "interpreter": {
   "hash": "73e03da126b73bfff3642ec5261d56fa25c444ea595de51041687efaa60dda41"
  }
 },
 "nbformat": 4,
 "nbformat_minor": 2
}