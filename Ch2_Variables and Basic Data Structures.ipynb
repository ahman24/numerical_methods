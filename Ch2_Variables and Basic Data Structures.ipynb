{
 "metadata": {
  "language_info": {
   "codemirror_mode": {
    "name": "ipython",
    "version": 3
   },
   "file_extension": ".py",
   "mimetype": "text/x-python",
   "name": "python",
   "nbconvert_exporter": "python",
   "pygments_lexer": "ipython3",
   "version": "3.7.10"
  },
  "orig_nbformat": 4,
  "kernelspec": {
   "name": "python3",
   "display_name": "Python 3.7.10 64-bit ('base': conda)"
  },
  "interpreter": {
   "hash": "07efdcd4b820c98a756949507a4d29d7862823915ec7477944641bea022f4f62"
  }
 },
 "nbformat": 4,
 "nbformat_minor": 2,
 "cells": [
  {
   "source": [
    "# Chapter 2: Variables and Basic Data Structures\n",
    "by [Arief Rahman Hakim](https://github.com/ahman24)\n",
    "\n",
    "\n",
    "## Solutions on Problems\n",
    "There are only a few of them I worked on."
   ],
   "cell_type": "markdown",
   "metadata": {}
  },
  {
   "source": [
    "### Q1 and Q2\n",
    "1. Assign the value 2 to the variable x and the value 3 to the variable y. Clear just the variable x.\n",
    "2. Write a line of code that generates the following error:"
   ],
   "cell_type": "markdown",
   "metadata": {}
  },
  {
   "cell_type": "code",
   "execution_count": 1,
   "metadata": {},
   "outputs": [
    {
     "output_type": "stream",
     "name": "stdout",
     "text": [
      "x is 2 y is 3\n"
     ]
    }
   ],
   "source": [
    "x = 2\n",
    "y = 3\n",
    "\n",
    "print('x is',x,'y is',y)"
   ]
  },
  {
   "cell_type": "code",
   "execution_count": 2,
   "metadata": {},
   "outputs": [
    {
     "output_type": "error",
     "ename": "NameError",
     "evalue": "name 'x' is not defined",
     "traceback": [
      "\u001b[1;31m---------------------------------------------------------------------------\u001b[0m",
      "\u001b[1;31mNameError\u001b[0m                                 Traceback (most recent call last)",
      "\u001b[1;32m<ipython-input-2-3f4c86680675>\u001b[0m in \u001b[0;36m<module>\u001b[1;34m\u001b[0m\n\u001b[0;32m      1\u001b[0m \u001b[1;31m# delete var x\u001b[0m\u001b[1;33m\u001b[0m\u001b[1;33m\u001b[0m\u001b[1;33m\u001b[0m\u001b[0m\n\u001b[0;32m      2\u001b[0m \u001b[1;32mdel\u001b[0m \u001b[0mx\u001b[0m\u001b[1;33m\u001b[0m\u001b[1;33m\u001b[0m\u001b[0m\n\u001b[1;32m----> 3\u001b[1;33m \u001b[0mprint\u001b[0m\u001b[1;33m(\u001b[0m\u001b[0mx\u001b[0m\u001b[1;33m)\u001b[0m\u001b[1;33m\u001b[0m\u001b[1;33m\u001b[0m\u001b[0m\n\u001b[0m",
      "\u001b[1;31mNameError\u001b[0m: name 'x' is not defined"
     ]
    }
   ],
   "source": [
    "# delete var x\n",
    "del x\n",
    "print(x)"
   ]
  },
  {
   "source": [
    "### Q3 and Q4\n",
    "Let x = 10 and y = 3. Write a line of code that will make each of the following assignments.\n",
    "\n",
    "* u = x + y\n",
    "* v = xy\n",
    "* w = x/y\n",
    "* z = sin(x)\n",
    "* r = 8sin(x)\n",
    "* s = 5sin(xy)\n",
    "* p = x**y\n",
    "\n",
    "Then show all variables stored on memory"
   ],
   "cell_type": "markdown",
   "metadata": {}
  },
  {
   "cell_type": "code",
   "execution_count": 9,
   "metadata": {},
   "outputs": [
    {
     "output_type": "stream",
     "name": "stdout",
     "text": [
      "Variable   Type      Data/Info\n------------------------------\nmath       module    <module 'math' (built-in)>\nos         module    <module 'os' from 'D:\\\\Anaconda\\\\lib\\\\os.py'>\np          int       1000\nr          float     -4.352168887114958\ns          float     -4.940158120464309\nsys        module    <module 'sys' (built-in)>\nu          int       13\nv          int       30\nw          float     3.3333333333333335\nx          int       10\ny          int       3\nz          float     -0.5440211108893698\n"
     ]
    }
   ],
   "source": [
    "import math\n",
    "x = 10\n",
    "y = 3\n",
    "\n",
    "u = x + y\n",
    "v = x*y\n",
    "w = x/y\n",
    "z = math.sin(x)\n",
    "r = 8*math.sin(x)\n",
    "s = 5*math.sin(x*y)\n",
    "p = x**y\n",
    "\n",
    "%whos"
   ]
  },
  {
   "source": [
    "### Q5\n",
    "Assign string ‘123’ to the variable S. Convert the string into a float type and assign the output to the variable N. Verify that S is a string and N is a float using the type function."
   ],
   "cell_type": "markdown",
   "metadata": {}
  },
  {
   "cell_type": "code",
   "execution_count": 12,
   "metadata": {},
   "outputs": [
    {
     "output_type": "stream",
     "name": "stdout",
     "text": [
      "Var S is <class 'str'> Var N is  <class 'float'>\n"
     ]
    }
   ],
   "source": [
    "S = '123'\n",
    "N = float(S)\n",
    "print('Var S is', type(S), 'Var N is ', type(N))"
   ]
  },
  {
   "source": [
    "### Q6\n",
    "Assign the string ‘HELLO’ to the variable s1 and the string ‘hello’ to the variable s2. Use the == operator to show that they are not equal. Use the == operator to show that s1 and s2 are equal if the lower method is used on s1. Use the == operator to show that s1 and s2 are equal if upper method is used on s2."
   ],
   "cell_type": "markdown",
   "metadata": {}
  },
  {
   "cell_type": "code",
   "execution_count": 20,
   "metadata": {},
   "outputs": [
    {
     "output_type": "stream",
     "name": "stdout",
     "text": [
      "False\nTrue\nTrue\n"
     ]
    }
   ],
   "source": [
    "s1 = 'HELLO'\n",
    "s2 = 'hello'\n",
    "\n",
    "print(s1 == s2)\n",
    "print(s1.lower() == s2)\n",
    "print(s1 == s2.upper())\n"
   ]
  },
  {
   "source": [
    "### Q8 and Q9\n",
    "Check if ‘Python’ is in ‘Python is great!’.\n",
    "Then, Get the last word ‘great’."
   ],
   "cell_type": "markdown",
   "metadata": {}
  },
  {
   "cell_type": "code",
   "execution_count": 23,
   "metadata": {},
   "outputs": [
    {
     "output_type": "stream",
     "name": "stdout",
     "text": [
      "True\ngreat!\n"
     ]
    }
   ],
   "source": [
    "txt1 = 'Python'\n",
    "txt2 = 'Python is great!'\n",
    "\n",
    "print(txt1 in txt2)\n",
    "print(txt2[10:16])"
   ]
  },
  {
   "source": [
    "### Q13 and Q14\n",
    "Create one tuple with element ‘One’, 1 and assign it to tuple_a. Then, get the 2nd element in the tuple_a in problem 13."
   ],
   "cell_type": "markdown",
   "metadata": {}
  },
  {
   "cell_type": "code",
   "execution_count": 26,
   "metadata": {},
   "outputs": [
    {
     "output_type": "stream",
     "name": "stdout",
     "text": [
      "<class 'tuple'>\n"
     ]
    },
    {
     "output_type": "execute_result",
     "data": {
      "text/plain": [
       "1"
      ]
     },
     "metadata": {},
     "execution_count": 26
    }
   ],
   "source": [
    "tuple_a = ('One', 1)\n",
    "print(type(tuple_a))\n",
    "tuple_a[1]"
   ]
  },
  {
   "source": [
    "### Q15\n",
    "Get the unique element from (2, 3, 2, 3, 1, 2, 5)."
   ],
   "cell_type": "markdown",
   "metadata": {}
  },
  {
   "cell_type": "code",
   "execution_count": 28,
   "metadata": {},
   "outputs": [
    {
     "output_type": "stream",
     "name": "stdout",
     "text": [
      "{1, 2, 3, 5}\n"
     ]
    }
   ],
   "source": [
    "array = (2, 3, 2, 3, 1, 2, 5)\n",
    "unique = set(array)\n",
    "print(unique)"
   ]
  },
  {
   "source": [
    "### Q16\n",
    "Assign (2, 3, 2) to set_a, and (1, 2, 3) to set_b. Get the following:\n",
    "* union of set_a and set_b\n",
    "* intersection of set_a and set_b\n",
    "* difference of set_a to set_b using difference method"
   ],
   "cell_type": "markdown",
   "metadata": {}
  },
  {
   "cell_type": "code",
   "execution_count": 32,
   "metadata": {},
   "outputs": [
    {
     "output_type": "stream",
     "name": "stdout",
     "text": [
      "{1, 2, 3}\n{2, 3}\nset()\n"
     ]
    }
   ],
   "source": [
    "set_a = set([2,3,2])\n",
    "set_b = set([1,2,3])\n",
    "\n",
    "print(set_a.union(set_b))\n",
    "print(set_a.intersection(set_b))\n",
    "print(set_a.difference(set_b))"
   ]
  },
  {
   "source": [
    "### Q17 and Q18\n",
    "Create a dictionary that has the keys ‘A’, ‘B’, ‘C’ with values ‘a’, ‘b’, ‘c’ individually. Print all the keys in the dictionary. Then, check if key ‘B’ is in the dictionary defined in problem 17."
   ],
   "cell_type": "markdown",
   "metadata": {}
  },
  {
   "cell_type": "code",
   "execution_count": 40,
   "metadata": {},
   "outputs": [
    {
     "output_type": "stream",
     "name": "stdout",
     "text": [
      "{'A': 'a', 'B': 'b', 'C': 'c'}\ndict_keys(['A', 'B', 'C'])\nTrue\ndict_values(['a', 'b', 'c'])\n"
     ]
    }
   ],
   "source": [
    "dictionary = {'A':'a', 'B' : 'b', 'C' : 'c'}\n",
    "print(dictionary)\n",
    "print(dictionary.keys())\n",
    "print('B' in dictionary.keys())\n",
    "print(dictionary.values())"
   ]
  },
  {
   "source": [
    "### Q29\n",
    "Generate an array with size 100 evenly spaced between -10 to 10 using linspace function in Numpy."
   ],
   "cell_type": "markdown",
   "metadata": {}
  },
  {
   "cell_type": "code",
   "execution_count": 49,
   "metadata": {},
   "outputs": [
    {
     "output_type": "stream",
     "name": "stdout",
     "text": [
      "Length is 100\nhead is [-10.          -9.7979798   -9.5959596   -9.39393939  -9.19191919]\ntail is [ 9.19191919  9.39393939  9.5959596   9.7979798  10.        ]\n"
     ]
    }
   ],
   "source": [
    "import numpy as np\n",
    "\n",
    "array = np.linspace(-10, 10, num=100)\n",
    "print('Length is', len(array))\n",
    "print('head is', array[:5])\n",
    "print('tail is', array[-5:])"
   ]
  },
  {
   "source": [
    "### Q31\n",
    "Create an array,\n",
    "\n",
    "$y=$ $\\begin{bmatrix}3 & 5 & 3\\\\5 & 2 & 8 \\\\3 & 5 & 9\\end{bmatrix}$\n",
    "\n",
    "then, calculate the transpose of the array.\n"
   ],
   "cell_type": "markdown",
   "metadata": {}
  },
  {
   "cell_type": "code",
   "execution_count": 53,
   "metadata": {},
   "outputs": [
    {
     "output_type": "stream",
     "name": "stdout",
     "text": [
      "Array y is \n [[3 5 3]\n [5 2 8]\n [3 5 9]] \n\nTranspose of y is \n [[3 5 3]\n [5 2 5]\n [3 8 9]]\n"
     ]
    }
   ],
   "source": [
    "y = np.array([[3,5,3], [5,2,8], [3,5,9]])\n",
    "print('Array y is \\n', y,'\\n')\n",
    "print('Transpose of y is \\n', y.T)"
   ]
  },
  {
   "source": [
    "### Q32 and Q33\n",
    "Create a zero array with size (2, 4). Then, change the 2nd column in the above array to 1"
   ],
   "cell_type": "markdown",
   "metadata": {}
  },
  {
   "cell_type": "code",
   "execution_count": 55,
   "metadata": {},
   "outputs": [
    {
     "output_type": "stream",
     "name": "stdout",
     "text": [
      "The array is \n [[0. 0. 0. 0.]\n [0. 0. 0. 0.]]\nThe modified array is now \n [[0. 0. 0. 0.]\n [1. 1. 1. 1.]]\n"
     ]
    }
   ],
   "source": [
    "array = np.zeros((2,4))\n",
    "print('The array is \\n', array)\n",
    "\n",
    "# Change the 2nd column to 1\n",
    "array[1,:] = 1\n",
    "print('The modified array is now \\n', array)"
   ]
  },
  {
   "source": [
    "### Q34\n",
    "Write a cell magic to clear all the variables in the Jupyter notebook"
   ],
   "cell_type": "markdown",
   "metadata": {}
  },
  {
   "cell_type": "code",
   "execution_count": 58,
   "metadata": {},
   "outputs": [
    {
     "output_type": "stream",
     "name": "stdout",
     "text": [
      "Interactive namespace is empty.\n"
     ]
    }
   ],
   "source": [
    "%reset\n",
    "%whos"
   ]
  }
 ]
}