{
 "cells": [
  {
   "cell_type": "markdown",
   "source": [
    "# Chapter 6: Recursion\r\n",
    "by [Arief Rahman Hakim](https://github.com/ahman24)\r\n",
    "\r\n",
    "\r\n",
    "## 1. Recursive Function\r\n",
    "A **recursive function** is a function that *makes calls to itself*. It works like loops and sometimes better to use than loops.\r\n",
    "\r\n",
    "Every recursive function has two components: \r\n",
    "* a base case: usually the smallest input and has an easily verifiable solution. Mechanism that stops the function from calling itself forever\r\n",
    "* a recursive step: set of all cases where a recursive call, or a function call to itself, is made."
   ],
   "metadata": {}
  },
  {
   "cell_type": "markdown",
   "source": [
    "### 1A. Factorial\r\n",
    "For instance, the factorial of an integer `n` is $1×2×3×...×(n−1)×n$.  \r\n",
    "The recursive definition can be rewritten as,\r\n",
    "$$\\begin{equation}\r\n",
    "f(n) = \r\n",
    "    \\begin{cases}\r\n",
    "    1 &\\text{if $n=1$}\\\\\r\n",
    "    n \\times f(n-1) & \\text{otherwise}\\\\\r\n",
    "    \\end{cases}\r\n",
    "\\end{equation}$$\r\n",
    "\r\n"
   ],
   "metadata": {}
  },
  {
   "cell_type": "code",
   "execution_count": 1,
   "source": [
    "def factorial(n):\r\n",
    "    \"\"\"\r\n",
    "    Computes and returns the factorial of n,\r\n",
    "    a positive integer.\r\n",
    "    \"\"\"\r\n",
    "\r\n",
    "    if n == 1: \r\n",
    "        # BASE CASE\r\n",
    "        return 1\r\n",
    "    else:\r\n",
    "        # RECURSIVE STEP\r\n",
    "        return n * factorial(n-1)\r\n",
    "\r\n",
    "test = factorial(3)\r\n",
    "print(test)"
   ],
   "outputs": [
    {
     "output_type": "stream",
     "name": "stdout",
     "text": [
      "6\n"
     ]
    }
   ],
   "metadata": {}
  },
  {
   "cell_type": "markdown",
   "source": [
    "### 1B. Fibonacci\r\n",
    "Fibonacci numbers were originally developed to model the idealized population growth of rabbits. Since then, they have been found to be significant in any naturally occurring phenomena. The Fibonacci numbers can be generated using the following recursive formula,\r\n",
    "\r\n",
    "$$\\begin{equation}\r\n",
    "f(n) = \r\n",
    "    \\begin{cases}\r\n",
    "    1 &\\text{if $n=1$}\\\\\r\n",
    "    1 &\\text{if $n=2$}\\\\\r\n",
    "    F(n-1) + F(n-2) & \\text{otherwise}\\\\\r\n",
    "    \\end{cases}\r\n",
    "\\end{equation}$$\r\n",
    "\r\n"
   ],
   "metadata": {}
  },
  {
   "cell_type": "code",
   "execution_count": 2,
   "source": [
    "def fibonacci(n):\r\n",
    "    \"\"\"\r\n",
    "    Computes and returns the Fibonacci of n, \r\n",
    "    a postive integer.\r\n",
    "    \"\"\"\r\n",
    "    if n == 1: # first base case\r\n",
    "        return 1\r\n",
    "    elif n == 2: # second base case\r\n",
    "        return 1\r\n",
    "    else: # Recursive step\r\n",
    "        return fibonacci(n-1) + fibonacci(n-2) # Recursive call "
   ],
   "outputs": [],
   "metadata": {}
  },
  {
   "cell_type": "code",
   "execution_count": 3,
   "source": [
    "import numpy as np\r\n",
    "\r\n",
    "def iter_fib(n):\r\n",
    "    fib = np.ones(n)\r\n",
    "    \r\n",
    "    for i in range(2, n):\r\n",
    "        fib[i] = fib[i - 1] + fib[i - 2]\r\n",
    "        \r\n",
    "    return fib"
   ],
   "outputs": [],
   "metadata": {}
  },
  {
   "cell_type": "markdown",
   "source": [
    "For fibonacci(5), here is what happened  \r\n",
    "\r\n",
    "![recursive call](img/06.01.02-Recursion_tree_for_fibonacci.png)"
   ],
   "metadata": {}
  },
  {
   "cell_type": "markdown",
   "source": [
    "Lets compare the execution time between recursive func vs iterative func"
   ],
   "metadata": {}
  },
  {
   "cell_type": "code",
   "execution_count": 4,
   "source": [
    "# CALCULATE AND TIME FIBONACCI USING RECURSIVE FUNC\r\n",
    "%timeit fibonacci(10)"
   ],
   "outputs": [
    {
     "output_type": "stream",
     "name": "stdout",
     "text": [
      "11.2 µs ± 76.8 ns per loop (mean ± std. dev. of 7 runs, 100000 loops each)\n"
     ]
    }
   ],
   "metadata": {}
  },
  {
   "cell_type": "code",
   "execution_count": 5,
   "source": [
    "# CALCULATE AND TIME FIBONACCI USING ITERATIVE LOOP\r\n",
    "%timeit iter_fib(10)"
   ],
   "outputs": [
    {
     "output_type": "stream",
     "name": "stdout",
     "text": [
      "4.83 µs ± 30.1 ns per loop (mean ± std. dev. of 7 runs, 100000 loops each)\n"
     ]
    }
   ],
   "metadata": {}
  },
  {
   "cell_type": "markdown",
   "source": [
    "In general, iterative functions are faster than recursive functions that perform the same task. Above we see that t_iterative is faster than t_recursive.\r\n",
    " \r\n",
    "So why use recursive functions at all?  \r\n",
    "There are some solution methods that have a naturally recursive structure. In these cases it is usually very hard to write a counterpart using loops. The primary value of writing recursive functions is that they can usually be written much more compactly than iterative functions. The cost of the improved compactness is added running time."
   ],
   "metadata": {}
  },
  {
   "cell_type": "markdown",
   "source": [
    "### 1.C IMPORTANT NOTES\r\n",
    "\r\n",
    "1. We need to ensure that the recursive func could go to the base case. Otherwise, it would go on unlimited loop\r\n",
    "2. We can set the recursive limit using the following code,\r\n",
    "\r\n",
    "`import sys`  \r\n",
    "`sys.setrecursionlimit(n)`"
   ],
   "metadata": {}
  },
  {
   "cell_type": "markdown",
   "source": [
    "## 2. DIVIDE AND CONQUER\r\n",
    "**Divide and conquer** is a useful strategy for solving difficult problems. Using divide and conquer, difficult problems are solved from solutions to many similar easy problems. In this way, difficult problems are broken up so they are more manageable.\r\n",
    "\r\n",
    "In this section, we cover two classical examples of divide and conquer: the **Towers of Hanoi Problem** and the **Quicksort algorithm**."
   ],
   "metadata": {}
  },
  {
   "cell_type": "markdown",
   "source": [
    "### 2.A Tower of Hanoi Problem\r\n",
    "The Towers of Hanoi problem consists of three vertical rods, or towers, and N disks of different sizes, each with a hole in the center so that the rod can slide through it.\r\n",
    "\r\n",
    "The figure below illustrates how it works,\r\n",
    "\r\n",
    "![Tower of Hanoi Problem](img/06.02.01-Illustration_Towers_of_Hanoi.png)\r\n",
    "\r\n",
    "  \r\n",
    "Here are the steps,\r\n",
    "\r\n",
    "![Steps Breakdown](img/06.02.02-Break_down.png)"
   ],
   "metadata": {}
  },
  {
   "cell_type": "code",
   "execution_count": 6,
   "source": [
    "def my_towers(N, from_tower, to_tower, alt_tower):\r\n",
    "    \"\"\"\r\n",
    "    Displays the moves required to move a tower of size N from the\r\n",
    "    'from_tower' to the 'to_tower'. \r\n",
    "    \r\n",
    "    'from_tower', 'to_tower' and 'alt_tower' are uniquely either \r\n",
    "    1, 2, or 3 referring to tower 1, tower 2, and tower 3. \r\n",
    "    \"\"\"\r\n",
    "    \r\n",
    "    if N != 0:\r\n",
    "        # recursive call that moves N-1 stack from starting tower\r\n",
    "        # to alternate tower\r\n",
    "        my_towers(N-1, from_tower, alt_tower, to_tower)\r\n",
    "        \r\n",
    "        # display to screen movement of bottom disk from starting\r\n",
    "        # tower to final tower\r\n",
    "        print(\"Move disk %d from tower %d to tower %d.\"\\\r\n",
    "                  %(N, from_tower, to_tower))\r\n",
    "        \r\n",
    "        # recursive call that moves N-1 stack from alternate tower\r\n",
    "        # to final tower\r\n",
    "        my_towers(N-1, alt_tower, to_tower, from_tower)"
   ],
   "outputs": [],
   "metadata": {}
  },
  {
   "cell_type": "code",
   "execution_count": 7,
   "source": [
    "my_towers(3, 1, 3, 2)"
   ],
   "outputs": [
    {
     "output_type": "stream",
     "name": "stdout",
     "text": [
      "Move disk 1 from tower 1 to tower 3.\n",
      "Move disk 2 from tower 1 to tower 2.\n",
      "Move disk 1 from tower 3 to tower 2.\n",
      "Move disk 3 from tower 1 to tower 3.\n",
      "Move disk 1 from tower 2 to tower 1.\n",
      "Move disk 2 from tower 2 to tower 3.\n",
      "Move disk 1 from tower 1 to tower 3.\n"
     ]
    }
   ],
   "metadata": {}
  },
  {
   "cell_type": "markdown",
   "source": [
    "### 2.B Quicksort\r\n",
    "A list of numbers, `A`, is sorted if the elements are arranged in `ascending or descending order`. Although there are many ways of sorting a list, `quicksort` is a `divide-and-conquer` approach that is a very fast algorithm for sorting using a single processor (there are faster algorithms for multiple processors)."
   ],
   "metadata": {}
  },
  {
   "cell_type": "code",
   "execution_count": 8,
   "source": [
    "def my_quicksort(lst):\r\n",
    "    \r\n",
    "    if len(lst) <= 1:\r\n",
    "        # list of length 1 is easiest to sort \r\n",
    "        # because it is already sorted\r\n",
    "        \r\n",
    "        sorted_list = lst\r\n",
    "    else:\r\n",
    "        \r\n",
    "        # select pivot as the first element of the list\r\n",
    "        pivot = lst[0]\r\n",
    "        \r\n",
    "        # initialize lists for bigger and smaller elements \r\n",
    "        # as well those equal to the pivot\r\n",
    "        bigger = []\r\n",
    "        smaller = []\r\n",
    "        same = []\r\n",
    "        \r\n",
    "        # loop through list and put elements into appropriate array\r\n",
    "        for item in lst:\r\n",
    "            if item > pivot:\r\n",
    "                bigger.append(item)\r\n",
    "            elif item < pivot:\r\n",
    "                smaller.append(item)\r\n",
    "            else:\r\n",
    "                same.append(item)\r\n",
    "        \r\n",
    "        sorted_list = my_quicksort(smaller) + same + my_quicksort(bigger)\r\n",
    "        \r\n",
    "    return sorted_list"
   ],
   "outputs": [],
   "metadata": {}
  },
  {
   "cell_type": "code",
   "execution_count": 9,
   "source": [
    "my_quicksort([2, 1, 3, 5, 6, 3, 8, 10])"
   ],
   "outputs": [
    {
     "output_type": "execute_result",
     "data": {
      "text/plain": [
       "[1, 2, 3, 3, 5, 6, 8, 10]"
      ]
     },
     "metadata": {},
     "execution_count": 9
    }
   ],
   "metadata": {}
  },
  {
   "cell_type": "markdown",
   "source": [
    "## 3. Problem Solving\r\n",
    "\r\n",
    "### Q1\r\n",
    "Write a function `my_sum(lst)` where `lst` is a list, and the output is the `sum` of all the elements of `lst`. \r\n",
    "You can use recursion or iteration to solve the problem, but do not use Python’s function sum.\r\n",
    "\r\n",
    "Let's do both of them.  \r\n",
    "Hypothesis: since the problem is not hierarchial, iterative approach might be faster."
   ],
   "metadata": {}
  },
  {
   "cell_type": "code",
   "execution_count": 20,
   "source": [
    "def my_sum_iterative(lst):\r\n",
    "    length = len(lst)\r\n",
    "    total = 0\r\n",
    "\r\n",
    "    for i in range (length):\r\n",
    "        total = total + lst[i]\r\n",
    "    \r\n",
    "    return total"
   ],
   "outputs": [],
   "metadata": {}
  },
  {
   "cell_type": "code",
   "execution_count": 22,
   "source": [
    "array = np.ones((10,1))\r\n",
    "\r\n",
    "total = my_sum_iterative(array)\r\n",
    "print(total)\r\n",
    "\r\n",
    "%timeit total = my_sum_iterative(array)"
   ],
   "outputs": [
    {
     "output_type": "stream",
     "name": "stdout",
     "text": [
      "[10.]\n",
      "5.95 µs ± 71 ns per loop (mean ± std. dev. of 7 runs, 100000 loops each)\n"
     ]
    }
   ],
   "metadata": {}
  },
  {
   "cell_type": "code",
   "execution_count": 23,
   "source": [
    "def my_sum_recursive(lst):\r\n",
    "    \r\n",
    "    if len(lst) <= 1:\r\n",
    "                \r\n",
    "        return lst[0]\r\n",
    "    else:\r\n",
    "        \r\n",
    "        total = lst[0] + my_sum_recursive(lst[1::])\r\n",
    "    return total"
   ],
   "outputs": [],
   "metadata": {}
  },
  {
   "cell_type": "code",
   "execution_count": 24,
   "source": [
    "total = my_sum_recursive(array)\r\n",
    "print(total)\r\n",
    "\r\n",
    "%timeit total = my_sum_recursive(array)"
   ],
   "outputs": [
    {
     "output_type": "stream",
     "name": "stdout",
     "text": [
      "[10.]\n",
      "7.2 µs ± 27.4 ns per loop (mean ± std. dev. of 7 runs, 100000 loops each)\n"
     ]
    }
   ],
   "metadata": {}
  },
  {
   "cell_type": "markdown",
   "source": [
    "As expected, the recursive function is slightly longer than the iterative function."
   ],
   "metadata": {}
  },
  {
   "cell_type": "markdown",
   "source": [
    "### Q2\r\n",
    "**Chebyshev polynomials** are defined recursively. Chebyshev polynomials are separated into two kinds: \r\n",
    "* First,\r\n",
    "* Second\r\n",
    "\r\n",
    "Chebyshev polynomials of the first kind, `Tn(x)`, and of the second kind, `Un(x)`, are defined by the following recurrence relations:\r\n",
    "\r\n",
    "$$\\begin{equation}\r\n",
    "T_n(n) = \r\n",
    "    \\begin{cases}\r\n",
    "    1 &\\text{if $n=0$}\\\\\r\n",
    "    x &\\text{if $n=1$}\\\\\r\n",
    "    2xT_{n-1}(x) - T_{n-2}(x) &\\text{otherwise}\\\\\r\n",
    "    \\end{cases}\r\n",
    "\\end{equation}$$\r\n",
    "\r\n",
    "$$\\begin{equation}\r\n",
    "U_n(n) = \r\n",
    "    \\begin{cases}\r\n",
    "    1 &\\text{if $n=0$}\\\\\r\n",
    "    2x &\\text{if $n=1$}\\\\\r\n",
    "    2xU_{n-1}(x) - U_{n-2}(x) &\\text{otherwise}\\\\\r\n",
    "    \\end{cases}\r\n",
    "\\end{equation}$$\r\n",
    "\r\n",
    "Write a function `my_chebyshev_poly1(n,x)`, where the output `y` is the `n-th Chebyshev polynomial` of the first kind evaluated at x. Be sure your function can take list inputs for x. You may assume that `x is a list`. The output variable, `y`, `must be a list also`."
   ],
   "metadata": {}
  },
  {
   "cell_type": "code",
   "execution_count": null,
   "source": [
    "def my_chebyshev_poly1(n,x):\r\n",
    "    # Write your function code here\r\n",
    "    \r\n",
    "    return y"
   ],
   "outputs": [],
   "metadata": {}
  }
 ],
 "metadata": {
  "orig_nbformat": 4,
  "language_info": {
   "name": "python",
   "version": "3.8.10",
   "mimetype": "text/x-python",
   "codemirror_mode": {
    "name": "ipython",
    "version": 3
   },
   "pygments_lexer": "ipython3",
   "nbconvert_exporter": "python",
   "file_extension": ".py"
  },
  "kernelspec": {
   "name": "python3",
   "display_name": "Python 3.8.10 64-bit ('base': conda)"
  },
  "interpreter": {
   "hash": "73e03da126b73bfff3642ec5261d56fa25c444ea595de51041687efaa60dda41"
  }
 },
 "nbformat": 4,
 "nbformat_minor": 2
}