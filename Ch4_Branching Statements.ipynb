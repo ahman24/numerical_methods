{
 "metadata": {
  "language_info": {
   "codemirror_mode": {
    "name": "ipython",
    "version": 3
   },
   "file_extension": ".py",
   "mimetype": "text/x-python",
   "name": "python",
   "nbconvert_exporter": "python",
   "pygments_lexer": "ipython3",
   "version": "3.7.10"
  },
  "orig_nbformat": 4,
  "kernelspec": {
   "name": "python3",
   "display_name": "Python 3.7.10 64-bit ('base': conda)"
  },
  "interpreter": {
   "hash": "07efdcd4b820c98a756949507a4d29d7862823915ec7477944641bea022f4f62"
  }
 },
 "nbformat": 4,
 "nbformat_minor": 2,
 "cells": [
  {
   "source": [
    "# Chapter 4: Branching Statements\n",
    "by [Arief Rahman Hakim](https://github.com/ahman24)\n",
    "\n",
    "\n",
    "## Solutions on Problems\n",
    "There are only a few of them I worked on."
   ],
   "cell_type": "markdown",
   "metadata": {}
  },
  {
   "source": [
    "### Q1\n",
    "Write a function `my_tip_calc(bill, party)`, where `bill` is the total cost of a meal and `party` is the number of people in the group. The tip should be calculated as 15% for a party strictly less than six people, 18% for a party strictly less than eight, 20% for a party less than 11, and 25% for a party 11 or more. A couple of test cases are given below."
   ],
   "cell_type": "markdown",
   "metadata": {}
  },
  {
   "cell_type": "code",
   "execution_count": 4,
   "metadata": {},
   "outputs": [
    {
     "output_type": "execute_result",
     "data": {
      "text/plain": [
       "{'3': 16.393, '7': 19.672, '9': 21.858, '12': 27.323}"
      ]
     },
     "metadata": {},
     "execution_count": 4
    }
   ],
   "source": [
    "def my_tip_calc(bill, n):\n",
    "    if n <= 6:\n",
    "        tip = 0.15 * bill\n",
    "    elif 6 < n <= 8:\n",
    "        tip = 0.18 * bill\n",
    "    elif 8 < n < 11:\n",
    "        tip = 0.20 * bill\n",
    "    else:\n",
    "        tip = 0.25 * bill\n",
    "    \n",
    "    return tip\n",
    "\n",
    "n_3 = my_tip_calc(109.29,3)\n",
    "n_7 = my_tip_calc(109.29,7)\n",
    "n_9 = my_tip_calc(109.29,9)\n",
    "n_12 = my_tip_calc(109.29,12)\n",
    "\n",
    "n_3 = round(n_3,3)\n",
    "n_7 = round(n_7,3)\n",
    "n_9 = round(n_9,3)\n",
    "n_12 = round(n_12,3)\n",
    "\n",
    "table = {'3':n_3, '7':n_7, '9':n_9, '12':n_12}\n",
    "table"
   ]
  },
  {
   "source": [
    "### Q3\n",
    "Consider a triangle with vertices at `(0,0), (1,0), and (0,1)`. Write a function `my_inside_triangle(x,y)` where the output is the string `‘outside’` if the point `(x,y)` is outside of the triangle, `‘border’` if the point is exactly on the border of the triangle, and `‘inside’` if the point is on the inside of the triangle"
   ],
   "cell_type": "markdown",
   "metadata": {}
  },
  {
   "cell_type": "code",
   "execution_count": 5,
   "metadata": {},
   "outputs": [
    {
     "output_type": "stream",
     "name": "stdout",
     "text": [
      "For (0.5, 0.5), it is located in border\nFor (0.25, 0.25), it is located in border\nFor (5, 5), it is located in border\n"
     ]
    }
   ],
   "source": [
    "class check_triangle:\n",
    "    def __init__(self, x, y):\n",
    "        # (x,y)\n",
    "        self.point1 = (0,0)\n",
    "        self.point2 = (1,0)\n",
    "        self.point3 = (0,1)\n",
    "        self.point_to_check = (x,y)\n",
    "        self.check()\n",
    "\n",
    "    def calc_area(self, point1, point2, point3):\n",
    "        # area = 1/2 * abs(x1(y2-y3) + x2(y3-y1) + x3(y1-y2))\n",
    "        area = 1/2 * abs((point1[0] * (point2[1] - point3[1]) + point2[0] * (point3[1] - point1[1]) + point3[0] * (point1[1] - point2[1])))\n",
    "        return area\n",
    "\n",
    "    def check(self):\n",
    "        # triangle area\n",
    "        self.area = self.calc_area(self.point1, self.point2, self.point3)\n",
    "\n",
    "        # mini triangles made by point_to_check\n",
    "        area1 = self.calc_area(self.point_to_check, self.point2, self.point3)\n",
    "        area2 = self.calc_area(self.point_to_check, self.point1, self.point3)\n",
    "        area3 = self.calc_area(self.point_to_check, self.point1, self.point2)\n",
    "        area_total = area1 + area2 + area3\n",
    "\n",
    "        if area1 or area2 or area3 == 0.0:\n",
    "            self.result = 'border'\n",
    "        elif area_total == self.area:\n",
    "            self.result = 'inside'\n",
    "        elif area_total > area:\n",
    "            self.result = 'outside'\n",
    "\n",
    "triangle = check_triangle(0.5, 0.5)\n",
    "print(f'For {triangle.point_to_check}, it is located in {triangle.result}')\n",
    "\n",
    "triangle = check_triangle(0.25, 0.25)\n",
    "print(f'For {triangle.point_to_check}, it is located in {triangle.result}')\n",
    "\n",
    "triangle = check_triangle(5, 5)\n",
    "print(f'For {triangle.point_to_check}, it is located in {triangle.result}')"
   ]
  },
  {
   "source": [
    "### Q4\n",
    "Write a function `my_make_size10(x)`, where x is an array and output is the first `10 elements` of `x` if `x` has more than 10 elements, and output is the array `x` padded with enough zeros to make it length 10 if `x` has less than 10 elements."
   ],
   "cell_type": "markdown",
   "metadata": {}
  },
  {
   "cell_type": "code",
   "execution_count": 6,
   "metadata": {},
   "outputs": [
    {
     "output_type": "stream",
     "name": "stdout",
     "text": [
      "If the array is bigger than [10,1], return the first [:10] of the array\nFor array as follows,\n[1 1 1 1 1 1 1 1 1 1 1 1 1 1 1 1]\n\nReturn,\n[1 1 1 1 1 1 1 1 1 1]\n\nIf the array is smaller than [10,1], add zeros so that the size is [10:1], then return the array\nFor array as follows,\n[1 1 3]\n\nReturn,\n[1. 1. 3. 0. 0. 0. 0. 0. 0. 0.]\n"
     ]
    }
   ],
   "source": [
    "import numpy as np\n",
    "\n",
    "def my_make_size10(x):\n",
    "    length = x.size\n",
    "    if length > 10:\n",
    "        return print(x[:10])\n",
    "    else:\n",
    "        to_append = 10 - length\n",
    "        array_zeros = np.zeros((to_append,1))\n",
    "        x = np.append(x,array_zeros)\n",
    "        return print(x[:10])\n",
    "\n",
    "print(f'If the array is bigger than [10,1], return the first [:10] of the array')\n",
    "print(f'For array as follows,')\n",
    "array1 = np.array([1,1,1,1,1,1,1,1,1,1,1,1,1,1,1,1])\n",
    "print(array1)\n",
    "print(f'\\nReturn,')\n",
    "my_make_size10(array1)\n",
    "\n",
    "print(f'\\nIf the array is smaller than [10,1], add zeros so that the size is [10:1], then return the array')\n",
    "print(f'For array as follows,')\n",
    "array2 = np.array([1,1,3])\n",
    "print(array2)\n",
    "print(f'\\nReturn,')\n",
    "my_make_size10(array2)\n"
   ]
  },
  {
   "source": [
    "### Q7\n",
    "Most engineering systems have redundancy. That is, an engineering system has more than is required to accomplish its purpose. Consider a nuclear reactor whose temperature is monitored by three sensors. An alarm should go off if any two of the sensor readings disagree. \n",
    "Write a function `my_nuke_alarm(s1,s2,s3)` where `s1, s2, and s3` are the temperature readings for `sensor 1, sensor 2, and sensor 3`, respectively. The output should be the string `‘alarm!’` if any two of the temperature readings disagree by strictly more than `10 degrees` and `‘normal’` otherwise."
   ],
   "cell_type": "markdown",
   "metadata": {}
  },
  {
   "cell_type": "code",
   "execution_count": 7,
   "metadata": {},
   "outputs": [
    {
     "output_type": "stream",
     "name": "stdout",
     "text": [
      "For sensor reading as follows,\n[100  30  40]\nThe function returns,\nAlarm!\n\nFor sensor reading as follows,\n[100  95  93]\nThe function returns,\nNormal\n"
     ]
    }
   ],
   "source": [
    "def my_nuke_alarm(sensor):\n",
    "    max_value = sensor.max()\n",
    "    min_value = sensor.min()\n",
    "    dif = max_value - min_value\n",
    "\n",
    "    if dif >= 10:\n",
    "        return print(\"Alarm!\")\n",
    "    else:\n",
    "        return print('Normal')\n",
    "\n",
    "sensor_param1 = np.array([100,30,40]) \n",
    "print(f'For sensor reading as follows,')\n",
    "print(sensor_param1)\n",
    "print(f'The function returns,') \n",
    "my_nuke_alarm(sensor_param1)\n",
    "\n",
    "sensor_param2 = np.array([100,95,93]) \n",
    "print(f'\\nFor sensor reading as follows,')\n",
    "print(sensor_param2)\n",
    "print(f'The function returns,') \n",
    "my_nuke_alarm(sensor_param2)"
   ]
  }
 ]
}