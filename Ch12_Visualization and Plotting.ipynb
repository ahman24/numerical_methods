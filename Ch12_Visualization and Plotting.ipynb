{
 "cells": [
  {
   "cell_type": "markdown",
   "source": [
    "# Chapter 12: Visualization and Plotting\r\n",
    "by [Arief Rahman Hakim](https://github.com/ahman24)\r\n",
    "\r\n",
    "## 1. 2D Plotting\r\n",
    "Let's work on the 2d plotting with `matplotlib`.  \r\n",
    "In Jupyter notebook, we could show the figure directly within the notebook and also have the interactive operations like pan, zoom in/out, and so on using the magic command - `%matplotlib notebook`. Let’s see some examples."
   ],
   "metadata": {}
  },
  {
   "cell_type": "code",
   "execution_count": null,
   "source": [
    "import numpy as np\r\n",
    "import matplotlib.pyplot as plt\r\n",
    "#The inline is used since the %matplotlib notebook is unavailable in vscode\r\n",
    "%matplotlib inline"
   ],
   "outputs": [],
   "metadata": {}
  },
  {
   "cell_type": "code",
   "execution_count": null,
   "source": [
    "x = [0, 1, 2, 3]\r\n",
    "y = [0, 1, 4, 9]\r\n",
    "plt.figure()\r\n",
    "plt.plot(x, y)\r\n",
    "plt.show()"
   ],
   "outputs": [],
   "metadata": {}
  },
  {
   "cell_type": "markdown",
   "source": [
    "**TRY IT** Make a plot of $f(x) = x^2$ for $-5 \\le x \\le 5$."
   ],
   "metadata": {}
  },
  {
   "cell_type": "code",
   "execution_count": null,
   "source": [
    "x = np.linspace(-5,5, 100)\r\n",
    "plt.plot(x, x**2)\r\n",
    "plt.show()"
   ],
   "outputs": [],
   "metadata": {}
  },
  {
   "cell_type": "markdown",
   "source": [
    "We could implement formatting and styling on the figure. Here's a quick cheatsheet for 2D Plotting,\r\n",
    "| Symbol  | Description  | Symbol  |  Description |\r\n",
    "|:---:|:---:|:---:|:---:|\r\n",
    "|  b | blue  |  T |  T |\r\n",
    "|  g | green |  s | square  |\r\n",
    "|  r |  red |  d |  diamond |\r\n",
    "|  c |  cyan |  v | triangle (down)  |\r\n",
    "|  m |  magenta | ^  | triangle (up)   |\r\n",
    "|  y |  yellow | <  | triangle (left)   |\r\n",
    "|  k | black  |  > |  triangle (right)  |\r\n",
    "|  w |  white | p  | pentagram  |\r\n",
    "|  . |  point |  h |  hexagram |\r\n",
    "|  o |  circle | -  |  solid |\r\n",
    "|  x | x-mark  |  : |  dotted |\r\n",
    "|  + |  plus | -.  | dashdot  |\r\n",
    "|  * |  star |  --  | dashed  |\r\n",
    "\r\n",
    "For instance, lets change the line's `color` to blue with the `dash dot` line style,"
   ],
   "metadata": {}
  },
  {
   "cell_type": "code",
   "execution_count": null,
   "source": [
    "x = np.linspace(-5,5, 100)\r\n",
    "plt.plot(x, x**2, 'b-.')\r\n",
    "plt.show()"
   ],
   "outputs": [],
   "metadata": {}
  },
  {
   "cell_type": "markdown",
   "source": [
    "We could also add the figure's `size`, `title`, `axis labels`, etc to the figure as follows, "
   ],
   "metadata": {}
  },
  {
   "cell_type": "code",
   "execution_count": null,
   "source": [
    "plt.figure(figsize = (10,6)) # Size in inches\r\n",
    "\r\n",
    "x = np.linspace(-5,5,20)\r\n",
    "plt.plot(x, x**2, 'ko')\r\n",
    "plt.plot(x, x**3, 'r*')\r\n",
    "plt.title(f'Plot of Various Polynomials from {x[0]} to {x[-1]}')\r\n",
    "plt.xlabel('X axis', fontsize = 18)\r\n",
    "plt.ylabel('Y axis', fontsize = 18)\r\n",
    "plt.show()"
   ],
   "outputs": [],
   "metadata": {}
  },
  {
   "cell_type": "markdown",
   "source": [
    "Now we have learned that we can change the figure's style. Matplotlib has **pre-defined styles** that we could use to automatically change the style. Here is the list of the styles,"
   ],
   "metadata": {}
  },
  {
   "cell_type": "code",
   "execution_count": null,
   "source": [
    "print(plt.style.available)"
   ],
   "outputs": [],
   "metadata": {}
  },
  {
   "cell_type": "code",
   "execution_count": null,
   "source": [
    "plt.style.use('seaborn-ticks') # Use pre-defined style\r\n",
    "plt.figure(figsize = (10,6)) #Size in inches\r\n",
    "\r\n",
    "x = np.linspace(-5,5,100)\r\n",
    "plt.plot(x, x**2, 'ko', label=\"quadratic\") # Add legends\r\n",
    "plt.plot(x, x**3, 'r*', label=\"qubic\")\r\n",
    "plt.title(f'Plot of Various Polynomials from {x[0]} to {x[-1]}')\r\n",
    "plt.xlabel('X axis')\r\n",
    "plt.ylabel('Y axis')\r\n",
    "plt.grid()\r\n",
    "plt.xlim(-6.6) # Add x and y axis limit\r\n",
    "plt.ylim(-10,10)\r\n",
    "plt.legend(loc = 2)\r\n",
    "plt.show()"
   ],
   "outputs": [],
   "metadata": {}
  },
  {
   "cell_type": "markdown",
   "source": [
    "There are several other plotting functions that plot x versus y data. Some of them are \r\n",
    "* `scatter` : works exactly the same as plot except it defaults to red circles (scatter(x,y) = plot(x,y,’ro’) )\r\n",
    "* `bar` : plots bars centered at x with height y\r\n",
    "* `loglog` : both axis in log\r\n",
    "* `semilogx` : only x-axis in log\r\n",
    "* `semilogy` : inly y-axis in log\r\n",
    "* `errorbar` : plot with error bar\r\n",
    "* `polar` : plot $\\theta$ against $r$\r\n",
    "* `stem` : plots stems at x with height at y\r\n",
    "* `hist` : makes a histogram of a dataset\r\n",
    "* `boxplot` : gives a statistical summary of a dataset\r\n",
    "* `pie` : makes a pie chart\r\n",
    "\r\n",
    "The usage of these functions are left to your exploration. Do remember to check the examples on the [matplotlib gallery](https://matplotlib.org/gallery/index.html#gallery).  \r\n",
    "Let's illustrate some of them,"
   ],
   "metadata": {}
  },
  {
   "cell_type": "code",
   "execution_count": null,
   "source": [
    "import numpy as np\r\n",
    "x = np.arange(11)\r\n",
    "y = x**2\r\n",
    "\r\n",
    "plt.figure(figsize = (14, 8))\r\n",
    "\r\n",
    "plt.subplot(2, 3, 1)\r\n",
    "plt.plot(x,y)\r\n",
    "plt.title('Plot')\r\n",
    "plt.xlabel('X')\r\n",
    "plt.ylabel('Y')\r\n",
    "plt.grid()\r\n",
    "\r\n",
    "plt.subplot(2, 3, 2)\r\n",
    "plt.scatter(x,y)\r\n",
    "plt.title('Scatter')\r\n",
    "plt.xlabel('X')\r\n",
    "plt.ylabel('Y')\r\n",
    "plt.grid()\r\n",
    "\r\n",
    "plt.subplot(2, 3, 3)\r\n",
    "plt.bar(x,y)\r\n",
    "plt.title('Bar')\r\n",
    "plt.xlabel('X')\r\n",
    "plt.ylabel('Y')\r\n",
    "plt.grid()\r\n",
    "\r\n",
    "plt.subplot(2, 3, 4)\r\n",
    "plt.loglog(x,y)\r\n",
    "plt.title('Loglog')\r\n",
    "plt.xlabel('X')\r\n",
    "plt.ylabel('Y')\r\n",
    "plt.grid(which='both')\r\n",
    "\r\n",
    "plt.subplot(2, 3, 5)\r\n",
    "plt.semilogx(x,y)\r\n",
    "plt.title('Semilogx')\r\n",
    "plt.xlabel('X')\r\n",
    "plt.ylabel('Y')\r\n",
    "plt.grid(which='both')\r\n",
    "\r\n",
    "plt.subplot(2, 3, 6)\r\n",
    "plt.semilogy(x,y)\r\n",
    "plt.title('Semilogy')\r\n",
    "plt.xlabel('X')\r\n",
    "plt.ylabel('Y')\r\n",
    "plt.grid()\r\n",
    "\r\n",
    "plt.tight_layout() # Make subfigures to not overlap to each other\r\n",
    "plt.savefig(f'output/Ch12_2D Plotting.png')\r\n",
    "\r\n",
    "plt.show()"
   ],
   "outputs": [],
   "metadata": {}
  },
  {
   "cell_type": "markdown",
   "source": [
    "## 2. 3D Plotting\r\n",
    "In order to plot 3D figures use **matplotlib**, we need to import the `mplot3d` toolkit, which **adds the simple 3D plotting capabilities to matplotlib**."
   ],
   "metadata": {}
  },
  {
   "cell_type": "code",
   "execution_count": null,
   "source": [
    "from mpl_toolkits import mplot3d\r\n",
    "import matplotlib.pyplot as plt\r\n",
    "plt.style.use('seaborn-poster')"
   ],
   "outputs": [],
   "metadata": {}
  },
  {
   "cell_type": "markdown",
   "source": [
    "Once we imported the `mplot3d` toolkit, let’s first create a 3D `axes`,"
   ],
   "metadata": {}
  },
  {
   "cell_type": "code",
   "execution_count": null,
   "source": [
    "fig = plt.figure(figsize = (10,10))\r\n",
    "ax = plt.axes(projection='3d')\r\n",
    "plt.show()"
   ],
   "outputs": [],
   "metadata": {}
  },
  {
   "cell_type": "code",
   "execution_count": null,
   "source": [
    "fig = plt.figure(figsize = (8,8))\r\n",
    "ax = plt.axes(projection='3d') # Change the projection to 3d\r\n",
    "ax.grid()\r\n",
    "t = np.arange(0, 10*np.pi, np.pi/50)\r\n",
    "x = np.sin(t)\r\n",
    "y = np.cos(t)\r\n",
    "\r\n",
    "ax.plot3D(x, y, t)\r\n",
    "ax.set_title('3D Parametric Plot')\r\n",
    "\r\n",
    "# Set axes label\r\n",
    "ax.set_xlabel('x', labelpad=20) # make the label not overlap the tick texts\r\n",
    "ax.set_ylabel('y', labelpad=20)\r\n",
    "ax.set_zlabel('t', labelpad=20)\r\n",
    "\r\n",
    "plt.show()"
   ],
   "outputs": [],
   "metadata": {}
  },
  {
   "cell_type": "markdown",
   "source": [
    "We could also use the `scatter` 3D plot style,"
   ],
   "metadata": {}
  },
  {
   "cell_type": "code",
   "execution_count": null,
   "source": [
    "x = np.random.random(50)\r\n",
    "y = np.random.random(50)\r\n",
    "z = np.random.random(50)\r\n",
    "\r\n",
    "fig = plt.figure(figsize = (10,10))\r\n",
    "ax = plt.axes(projection='3d')\r\n",
    "ax.grid()\r\n",
    "\r\n",
    "ax.scatter(x, y, z, c = 'r', s = 50)\r\n",
    "ax.set_title('3D Scatter Plot')\r\n",
    "\r\n",
    "# Set axes label\r\n",
    "ax.set_xlabel('x', labelpad=20)\r\n",
    "ax.set_ylabel('y', labelpad=20)\r\n",
    "ax.set_zlabel('z', labelpad=20)\r\n",
    "\r\n",
    "plt.show()"
   ],
   "outputs": [],
   "metadata": {}
  },
  {
   "cell_type": "markdown",
   "source": [
    "Many times we would like a surface plot rather than a line plot when plotting in three dimensions. In three-dimensional surface plotting, we wish to make a graph of some relationship f (x, y). \r\n",
    "\r\n",
    "In surface plotting all `(x,y) pairs` **must be given**. This is not straightforward to do using vectors. Therefore, in surface plotting, **the first data structure you must create is called a mesh**. Given lists/arrays of `x` and `y` values, a **mesh is a listing of all the possible combinations of x and y**. \r\n",
    "\r\n",
    "In Python, the mesh is given as two arrays `X` and `Y` where `X(i,j)` and `Y(i,j)` **define possible** (x,y) pairs. A third array, `Z`, can then be created such that `Z(i,j) = f(X(i,j), Y(i,j))`. A mesh can be created using the `np.meshgrid` function in Python. The meshgrid function has the `inputs x` and `y` are lists containing the independent data set. The output variables X and Y are as described earlier."
   ],
   "metadata": {}
  },
  {
   "cell_type": "code",
   "execution_count": null,
   "source": [
    "x = [1, 2, 3, 4]\r\n",
    "y = [3, 4, 5]\r\n",
    "\r\n",
    "X, Y = np.meshgrid(x, y)\r\n",
    "print('X is,\\n',X,'\\n')\r\n",
    "print('Y is,\\n',Y)"
   ],
   "outputs": [],
   "metadata": {}
  },
  {
   "cell_type": "markdown",
   "source": [
    "Lets get into action,"
   ],
   "metadata": {}
  },
  {
   "cell_type": "code",
   "execution_count": null,
   "source": [
    "fig = plt.figure(figsize = (12,10))\r\n",
    "ax = plt.axes(projection='3d')\r\n",
    "\r\n",
    "x = np.arange(-5, 5.1, 0.2)\r\n",
    "y = np.arange(-5, 5.1, 0.2)\r\n",
    "\r\n",
    "X, Y = np.meshgrid(x, y)\r\n",
    "Z = np.sin(X)*np.cos(Y)\r\n",
    "\r\n",
    "surf = ax.plot_surface(X, Y, Z, cmap = plt.cm.cividis)\r\n",
    "\r\n",
    "# Set axes label\r\n",
    "ax.set_xlabel('x', labelpad=20)\r\n",
    "ax.set_ylabel('y', labelpad=20)\r\n",
    "ax.set_zlabel('z', labelpad=20)\r\n",
    "\r\n",
    "fig.colorbar(surf, shrink=0.5, aspect=8)\r\n",
    "\r\n",
    "plt.show()"
   ],
   "outputs": [],
   "metadata": {}
  },
  {
   "cell_type": "markdown",
   "source": [
    "We could also make a subplot for 3d plots,"
   ],
   "metadata": {}
  },
  {
   "cell_type": "code",
   "execution_count": null,
   "source": [
    "fig = plt.figure(figsize=(12,6))\r\n",
    "\r\n",
    "\r\n",
    "ax = fig.add_subplot(1, 2, 1, projection='3d')\r\n",
    "ax.plot_wireframe(X,Y,Z)\r\n",
    "ax.set_title('Wireframe plot')\r\n",
    "\r\n",
    "ax = fig.add_subplot(1, 2, 2, projection='3d')\r\n",
    "ax.plot_surface(X,Y,Z)\r\n",
    "ax.set_title('Surface plot')\r\n",
    "\r\n",
    "plt.tight_layout()\r\n",
    "\r\n",
    "plt.show()"
   ],
   "outputs": [],
   "metadata": {}
  },
  {
   "cell_type": "markdown",
   "source": [
    "You can find more examples of different type 3D plots on the `mplot3d` [tutorial website](https://matplotlib.org/mpl_toolkits/mplot3d/tutorial.html)"
   ],
   "metadata": {}
  },
  {
   "cell_type": "markdown",
   "source": [
    "## 3. Working with Maps\r\n",
    "There are many different Python packages that could draw maps, such as [`basemap`](https://matplotlib.org/basemap/), [`cartopy`](https://scitools.org.uk/cartopy/docs/latest/), [`folium`](https://github.com/python-visualization/folium) and so on.\r\n",
    "\r\n",
    "The `folium` package allows you to plot **interactive maps for webpages**. But most of time, we only need to plot a static map to show some spatial features, and `basemap` and `cartopy` will do the job. In past, `basemap` is the official map package goes with `matplotlib`, but **since 2016**, it announced that the `cartopy` will replace `basemap`. Therefore, in this section, we will quickly introduce you how to draw maps with data using cartopy.\r\n",
    "\r\n",
    "The basics of a map is simple: it is a 2D plot with specific **map projections**. The x-axis is the `longitude` ranging from **-180 to 180**, which specifies the **east-west position** of a point on the Earth’s surface. The `y-axis` is the `latitude` ranging from **-90 to 90**, that describes a point south-north position. If you specify a latitude and longitude pair, we could uniquely determine where the point is on the Earth."
   ],
   "metadata": {}
  },
  {
   "cell_type": "code",
   "execution_count": null,
   "source": [
    "import cartopy.crs as ccrs\r\n",
    "import matplotlib.pyplot as plt"
   ],
   "outputs": [],
   "metadata": {}
  },
  {
   "cell_type": "code",
   "execution_count": null,
   "source": [
    "plt.figure(figsize = (12, 8))\r\n",
    "ax = plt.axes(projection=ccrs.PlateCarree())\r\n",
    "ax.coastlines()\r\n",
    "ax.gridlines(draw_labels=True)\r\n",
    "plt.show()"
   ],
   "outputs": [],
   "metadata": {}
  },
  {
   "cell_type": "markdown",
   "source": [
    "In the above example, we plotted the map with the **Plate Carrée projection**, you can check out [other cartopy supported projections](https://scitools.org.uk/cartopy/docs/v0.16/crs/projections.html#cartopy-projections). Also, we turn on the grid lines and draw the labels on the maps as well.\r\n",
    "\r\n",
    "The map background we draw above is not so nice, we could easily add a nice map background in cartopy, note that, at the time of writing, the `stock_img` only have one image from a downsampled version of the Natural Earth shaded relief raster."
   ],
   "metadata": {}
  },
  {
   "cell_type": "code",
   "execution_count": null,
   "source": [
    "plt.figure(figsize = (12, 8))\r\n",
    "ax = plt.axes(projection=ccrs.PlateCarree())\r\n",
    "ax.coastlines()\r\n",
    "ax.stock_img()\r\n",
    "ax.gridlines(draw_labels=True)\r\n",
    "plt.show()"
   ],
   "outputs": [],
   "metadata": {}
  },
  {
   "cell_type": "code",
   "execution_count": null,
   "source": [
    "plt.figure(figsize = (12, 8))\r\n",
    "ax = plt.axes(projection=ccrs.PlateCarree())\r\n",
    "ax.coastlines()\r\n",
    "ax.stock_img()\r\n",
    "ax.gridlines(draw_labels=True)\r\n",
    "plt.show()"
   ],
   "outputs": [],
   "metadata": {}
  },
  {
   "cell_type": "markdown",
   "source": [
    "Of course, we could zoom in the map to any places on the Earth using `ax.set_extent` function, which takes a list with the first two numbers are the x-axis limits and the last two numbers are the y-axis limits."
   ],
   "metadata": {}
  },
  {
   "cell_type": "code",
   "execution_count": null,
   "source": [
    "plt.figure(figsize = (10, 5))\r\n",
    "ax = plt.axes(projection=ccrs.PlateCarree())\r\n",
    "ax.coastlines()\r\n",
    "ax.set_extent([-125, -75, 25, 50])\r\n",
    "ax.gridlines(draw_labels=True)\r\n",
    "plt.show()"
   ],
   "outputs": [],
   "metadata": {}
  },
  {
   "cell_type": "markdown",
   "source": [
    "One thing we notice that there is `no features` added on the map, such as the `country boarder`, `state boundary`, `lakes/water`, and so on. In cartopy, all these features need us to specify to add."
   ],
   "metadata": {}
  },
  {
   "cell_type": "code",
   "execution_count": null,
   "source": [
    "import cartopy.feature as cfeature\r\n",
    "plt.figure(figsize = (10, 5))\r\n",
    "ax = plt.axes(projection=ccrs.PlateCarree())\r\n",
    "ax.coastlines()\r\n",
    "ax.set_extent([-125, -75, 25, 50])\r\n",
    "\r\n",
    "ax.add_feature(cfeature.LAND)\r\n",
    "ax.add_feature(cfeature.OCEAN)\r\n",
    "ax.add_feature(cfeature.STATES, linestyle=':')\r\n",
    "ax.add_feature(cfeature.BORDERS)\r\n",
    "ax.add_feature(cfeature.LAKES, alpha=0.5)\r\n",
    "ax.add_feature(cfeature.RIVERS)\r\n",
    "\r\n",
    "plt.show()"
   ],
   "outputs": [],
   "metadata": {}
  },
  {
   "cell_type": "markdown",
   "source": [
    "We could zoom in further to a smaller area, **but then we need to download and use the high-resolution coastlines and land to have a good-looking map**."
   ],
   "metadata": {}
  },
  {
   "cell_type": "code",
   "execution_count": null,
   "source": [
    "plt.figure(figsize = (10, 8))\r\n",
    "ax = plt.axes(projection=ccrs.PlateCarree())\r\n",
    "ax.coastlines(resolution='10m')\r\n",
    "ax.set_extent([-122.8, -122, 37.3, 38.3])\r\n",
    "\r\n",
    "# we can add high-resolution land\r\n",
    "LAND = cfeature.NaturalEarthFeature('physical', 'land', '10m',\r\n",
    "                                        edgecolor='face',\r\n",
    "                                        facecolor=cfeature.COLORS['land'],\r\n",
    "                                        linewidth=.1\r\n",
    "                                   )\r\n",
    "# we can add high-resolution water\r\n",
    "OCEAN = cfeature.NaturalEarthFeature('physical', 'ocean', '10m',\r\n",
    "                                        edgecolor='face',\r\n",
    "                                        facecolor=cfeature.COLORS['water'],\r\n",
    "                                        linewidth=.1\r\n",
    "                                   )\r\n",
    "\r\n",
    "ax.add_feature(LAND, zorder=0)\r\n",
    "ax.add_feature(OCEAN)\r\n",
    "\r\n",
    "plt.show()"
   ],
   "outputs": [],
   "metadata": {}
  },
  {
   "cell_type": "code",
   "execution_count": null,
   "source": [
    "plt.figure(figsize = (10, 8))\r\n",
    "\r\n",
    "# plot the map related stuff\r\n",
    "ax = plt.axes(projection=ccrs.PlateCarree())\r\n",
    "ax.coastlines(resolution='10m')\r\n",
    "ax.set_extent([-122.8, -122, 37.3, 38.3])\r\n",
    "\r\n",
    "# we can add high-resolution land\r\n",
    "ax.add_feature(LAND, zorder=0)\r\n",
    "ax.add_feature(OCEAN, zorder=0)\r\n",
    "\r\n",
    "# plot the data related stuff\r\n",
    "berkeley_lon, berkeley_lat = -122.2585, 37.8719\r\n",
    "stanford_lon, stanford_lat = -122.1661, 37.4241\r\n",
    "\r\n",
    "# plot the two universities as blue dots\r\n",
    "ax.plot([berkeley_lon, stanford_lon], [berkeley_lat, stanford_lat],\r\n",
    "         color='blue', linewidth=2, marker='o')\r\n",
    "\r\n",
    "# add labels for the two universities\r\n",
    "ax.text(berkeley_lon + 0.16, berkeley_lat - 0.02, 'UC Berkeley',\r\n",
    "         horizontalalignment='right')\r\n",
    "\r\n",
    "ax.text(stanford_lon + 0.02, stanford_lat - 0.02, 'Stanford',\r\n",
    "         horizontalalignment='left')\r\n",
    "\r\n",
    "plt.show()"
   ],
   "outputs": [],
   "metadata": {}
  },
  {
   "cell_type": "markdown",
   "source": [
    "There are many other things we could plot with `cartopy package`, you can find the official [example gallery](https://scitools.org.uk/cartopy/docs/latest/gallery/index.html) and learn more of making nice maps."
   ],
   "metadata": {}
  },
  {
   "cell_type": "markdown",
   "source": [
    "## 4. Animation and Movies\r\n",
    "An **animation is a sequence of still frames, or plots, that are displayed in fast enough succession to create the illusion of continuous motion**. Animations and movies often convey information better than individual plots. You can create animations in Python **by calling a plot function inside of a loop (usually a for-loop)**. The main tools for making animations in Python is the `matplotlib.animation.Animation` base class, which provides a framework around which the animation functionality is built. \r\n",
    "\r\n",
    "Let’s see an example."
   ],
   "metadata": {}
  },
  {
   "cell_type": "code",
   "execution_count": null,
   "source": [
    "import numpy as np\r\n",
    "import matplotlib.pyplot as plt\r\n",
    "import matplotlib.animation as manimation\r\n",
    "# dont forget to install the ffmpeg package on conda-forge before"
   ],
   "outputs": [],
   "metadata": {}
  },
  {
   "cell_type": "code",
   "execution_count": null,
   "source": [
    "n = 1000\r\n",
    "x = np.linspace(0, 6*np.pi, n)\r\n",
    "y = np.sin(x)\r\n",
    "\r\n",
    "# Define the meta data for the movie\r\n",
    "FFMpegWriter = manimation.writers['ffmpeg']\r\n",
    "metadata = dict(title='Movie Test', artist='Matplotlib',\r\n",
    "                comment='a red circle following a blue sine wave')\r\n",
    "writer = FFMpegWriter(fps=15, metadata=metadata)\r\n",
    "\r\n",
    "# Initialize the movie\r\n",
    "fig = plt.figure()\r\n",
    "\r\n",
    "# plot the sine wave line\r\n",
    "sine_line, = plt.plot(x, y, 'b')\r\n",
    "red_circle, = plt.plot([], [], 'ro', markersize = 10)\r\n",
    "plt.xlabel('x')\r\n",
    "plt.ylabel('sin(x)')\r\n",
    "\r\n",
    "# Update the frames for the movie\r\n",
    "with writer.saving(fig, \"writer_test.mp4\", 100):\r\n",
    "    for i in range(n):\r\n",
    "        x0 = x[i]\r\n",
    "        y0 = y[i]\r\n",
    "        red_circle.set_data(x0, y0)\r\n",
    "        writer.grab_frame()"
   ],
   "outputs": [],
   "metadata": {}
  },
  {
   "cell_type": "code",
   "execution_count": null,
   "source": [
    "# don't worry about the code in this cell, it is just to let you \r\n",
    "# display the movies you generated above in Jupyter notebook\r\n",
    "from IPython.display import HTML\r\n",
    "\r\n",
    "HTML(\"\"\"\r\n",
    "<div align=\"middle\">\r\n",
    "<video width=\"80%\" controls>\r\n",
    "      <source src=\"writer_test.mp4\" type=\"video/mp4\">\r\n",
    "</video></div>\"\"\")"
   ],
   "outputs": [],
   "metadata": {}
  },
  {
   "cell_type": "markdown",
   "source": [
    "Before we make a movie, it is better to prepare the 3 following items first:\r\n",
    "1. define the meta data for the movie\r\n",
    "2. decide what in the background that no need to change\r\n",
    "3. decide the objects that need to change in each movie frame\r\n",
    "\r\n",
    "Once the above items are determined, then making the movie in Python is relatively easy, we only need to do 3 steps:\r\n",
    "1. define the meta data for the movie\r\n",
    "2. initialize the movie background figure\r\n",
    "3. update the frames for the movie\r\n",
    "\r\n",
    "Take the example above, we could clearly see the code related to the 3 steps.\r\n",
    "\r\n",
    "**1. Define the meta data for the movie**"
   ],
   "metadata": {}
  },
  {
   "cell_type": "code",
   "execution_count": null,
   "source": [
    "FFMpegWriter = manimation.writers['ffmpeg']\r\n",
    "metadata = dict(title='Movie Test', artist='Matplotlib',\r\n",
    "                comment='a red circle following a blue sine wave')\r\n",
    "writer = FFMpegWriter(fps=15, metadata=metadata)"
   ],
   "outputs": [],
   "metadata": {}
  },
  {
   "cell_type": "markdown",
   "source": [
    "In this block of code, we tell Python that we will start **to create a movie writer and give the title, artist, comment to it**. Besides, we also tell Python that the rate of the frames in the movie, that is `fps=15`, which means that we display 15 consecutive frames within 1 second (fps stands for frames per second).\r\n",
    "\r\n",
    "**2. Initialize the movie background figure**"
   ],
   "metadata": {}
  },
  {
   "cell_type": "code",
   "execution_count": null,
   "source": [
    "fig = plt.figure()\r\n",
    "\r\n",
    "# plot the sine wave line\r\n",
    "sine_line, = plt.plot(x, y, 'b')\r\n",
    "red_circle, = plt.plot([], [], 'ro', markersize = 10)\r\n",
    "plt.xlabel('x')\r\n",
    "plt.ylabel('sin(x)')"
   ],
   "outputs": [],
   "metadata": {}
  },
  {
   "cell_type": "markdown",
   "source": [
    "Here, we start to make initialization of the background figure for the movie. The reason we call it background figure is that the stuff we plotted here will not change during the movie, for this example, the sine wave curve will not change. At the same time, we plot an empty red dot (which will not appear on the figure). It serves as a place holder for the things that will change later in the movie, this is equivalent to tell Python that we will have a red point that later I will update the location of the point. Since the x and y axes labels will also not change, therefore, we plotted them here.\r\n",
    "\r\n",
    "**3. Update the frames for the movie**"
   ],
   "metadata": {}
  },
  {
   "cell_type": "code",
   "execution_count": null,
   "source": [
    "with writer.saving(fig, \"writer_test.mp4\", 100):\r\n",
    "    for i in range(n):\r\n",
    "        x0 = x[i]\r\n",
    "        y0 = y[i]\r\n",
    "        red_circle.set_data(x0, y0)\r\n",
    "        writer.grab_frame()"
   ],
   "outputs": [],
   "metadata": {}
  },
  {
   "cell_type": "markdown",
   "source": [
    "In this block of code, we specify **the name of the output file, format and resolution of the figure** (dpi - dots per inch), in this case, we want the output file has a name `writer_test` with format `mp4`, and we want the `dpi` of the figure 100. Then we are entering into the core part of the movie making - to update the figure. We use a for-loop to update the figure, and in each loop, we change the location (x, y location) of the red circle. The writer.grab_frame function will capture this change in each frame and display it based on the fps we set.\r\n",
    "\r\n",
    "This is the whole process of making this movie. There are many movie examples on [matplotlib movie tutorial](https://matplotlib.org/api/animation_api.html), take a look and run through some of the examples to get a better understanding of making movies in Python."
   ],
   "metadata": {}
  }
 ],
 "metadata": {
  "orig_nbformat": 4,
  "language_info": {
   "name": "python",
   "version": "3.8.8",
   "mimetype": "text/x-python",
   "codemirror_mode": {
    "name": "ipython",
    "version": 3
   },
   "pygments_lexer": "ipython3",
   "nbconvert_exporter": "python",
   "file_extension": ".py"
  },
  "kernelspec": {
   "name": "python3",
   "display_name": "Python 3.8.8 64-bit ('base': conda)"
  },
  "interpreter": {
   "hash": "2cb5fc6d4d84c01c0fea6d9e9d0ed05531f8505cce9339ba62b00000c892f567"
  }
 },
 "nbformat": 4,
 "nbformat_minor": 2
}