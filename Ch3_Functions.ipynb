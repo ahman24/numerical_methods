{
 "metadata": {
  "language_info": {
   "codemirror_mode": {
    "name": "ipython",
    "version": 3
   },
   "file_extension": ".py",
   "mimetype": "text/x-python",
   "name": "python",
   "nbconvert_exporter": "python",
   "pygments_lexer": "ipython3",
   "version": "3.7.10"
  },
  "orig_nbformat": 4,
  "kernelspec": {
   "name": "python3",
   "display_name": "Python 3.7.10 64-bit ('base': conda)"
  },
  "interpreter": {
   "hash": "07efdcd4b820c98a756949507a4d29d7862823915ec7477944641bea022f4f62"
  }
 },
 "nbformat": 4,
 "nbformat_minor": 2,
 "cells": [
  {
   "source": [
    "# Chapter 3: Functions\n",
    "by [Arief Rahman Hakim](https://github.com/ahman24)\n",
    "\n",
    "\n",
    "## Solutions on Problems\n",
    "There are only a few of them I worked on."
   ],
   "cell_type": "markdown",
   "metadata": {}
  },
  {
   "source": [
    "### Q2\n",
    "Write a function my_checker_board(n), where the output $m$ is an $n×n$ array with the following form:\n",
    "\n",
    "$m = $ $\\begin{bmatrix}1 & 0 & 1 & 0 & 1\\\\0 & 1 & 0 & 1 & 0\\\\1 & 0 & 1 & 0 & 1\\\\0 & 1 & 0 & 1 & 0\\\\1 & 0 & 1 & 0 & 1\\end{bmatrix}$\n"
   ],
   "cell_type": "markdown",
   "metadata": {}
  },
  {
   "cell_type": "code",
   "execution_count": 1,
   "metadata": {},
   "outputs": [
    {
     "output_type": "stream",
     "name": "stdout",
     "text": [
      "[[1 0 1 0 1 0]\n [0 1 0 1 0 1]\n [1 0 1 0 1 0]\n [0 1 0 1 0 1]\n [1 0 1 0 1 0]\n [0 1 0 1 0 1]]\n"
     ]
    }
   ],
   "source": [
    "import numpy as np\n",
    "\n",
    "def create_checker_board(n):\n",
    "    board = np.zeros((n,n), dtype=int)\n",
    "    \n",
    "    # seq[start:end:step]\n",
    "    board[::2, ::2] = 1\n",
    "    board[1::2, 1::2] = 1\n",
    "\n",
    "    return board\n",
    "\n",
    "n= 6\n",
    "print(create_checker_board(n))"
   ]
  },
  {
   "source": [
    "### Q4\n",
    "Write a function *my_split_matrix(m)*, where $m$ is an array, the output is a list *m1 x m2* where *m1* is the left half of *m*, and *m2* is the right half of *m*. In the case where there is an odd number of columns, the middle column should go to *m1*. Assume that *m* has at least two columns."
   ],
   "cell_type": "markdown",
   "metadata": {}
  },
  {
   "cell_type": "code",
   "execution_count": 2,
   "metadata": {},
   "outputs": [
    {
     "output_type": "execute_result",
     "data": {
      "text/plain": [
       "array([[0., 0.],\n",
       "       [0., 0.],\n",
       "       [0., 0.]])"
      ]
     },
     "metadata": {},
     "execution_count": 2
    }
   ],
   "source": [
    "a = np.zeros((3,4))\n",
    "a[:, 2:]"
   ]
  },
  {
   "cell_type": "code",
   "execution_count": 3,
   "metadata": {},
   "outputs": [
    {
     "output_type": "stream",
     "name": "stdout",
     "text": [
      "For even n_col,\n[[0. 0.]\n [0. 0.]\n [0. 0.]\n [0. 0.]]\n[[0. 0.]\n [0. 0.]\n [0. 0.]\n [0. 0.]]\n\n For odd n_col,\n[[0. 0. 0.]\n [0. 0. 0.]\n [0. 0. 0.]\n [0. 0. 0.]]\n[[0. 0.]\n [0. 0.]\n [0. 0.]\n [0. 0.]]\n"
     ]
    }
   ],
   "source": [
    "def my_split_matrix(m):\n",
    "    _,n_col = m.shape\n",
    "\n",
    "    if n_col%2 ==0:\n",
    "        n_slice = int(n_col / 2)\n",
    "    elif n_col%2 !=0:\n",
    "        n_slice = n_col // 2 + 1\n",
    "    \n",
    "    m1 = m[:, :n_slice]\n",
    "    m2 = m[:, n_slice:]\n",
    "    return m1, m2\n",
    "\n",
    "print('For even n_col,')\n",
    "m = np.zeros((4,4))\n",
    "m1,m2 = my_split_matrix(m)\n",
    "print(m1)\n",
    "print(m2)\n",
    "\n",
    "print('\\n For odd n_col,')\n",
    "m = np.zeros((4,5))\n",
    "m1,m2 = my_split_matrix(m)\n",
    "print(m1)\n",
    "print(m2)"
   ]
  },
  {
   "source": [
    "### Q6\n",
    "Write a function my_n_odds(a), where a is a one-dimensional array of floats and the output is the number of odd numbers in a."
   ],
   "cell_type": "markdown",
   "metadata": {}
  },
  {
   "cell_type": "code",
   "execution_count": 4,
   "metadata": {},
   "outputs": [
    {
     "output_type": "stream",
     "name": "stdout",
     "text": [
      "For matrix a, \n \n a = [ 1.  2.  3.  4.  5.  6.  7.  8.  9. 10.] \n \n there are 5 odd numbers and 5 numbers\n"
     ]
    }
   ],
   "source": [
    "def my_n_odds(a):\n",
    "    #apply modulus\n",
    "    n = a.size\n",
    "    odd = a % 2\n",
    "    n_odd = odd.sum()\n",
    "    n_even = n - n_odd\n",
    "\n",
    "    return n_odd, n_even\n",
    "\n",
    "a = np.linspace(1,10,10)\n",
    "n_odd, n_even = my_n_odds(a)\n",
    "print(f'For matrix a, \\n \\n a = {a} \\n \\n there are {int(n_odd)} odd numbers and {int(n_even)} numbers')"
   ]
  }
 ]
}