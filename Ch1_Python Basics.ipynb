{
 "metadata": {
  "language_info": {
   "codemirror_mode": {
    "name": "ipython",
    "version": 3
   },
   "file_extension": ".py",
   "mimetype": "text/x-python",
   "name": "python",
   "nbconvert_exporter": "python",
   "pygments_lexer": "ipython3",
   "version": "3.7.10"
  },
  "orig_nbformat": 4,
  "kernelspec": {
   "name": "python3",
   "display_name": "Python 3.7.10 64-bit ('base': conda)"
  },
  "interpreter": {
   "hash": "07efdcd4b820c98a756949507a4d29d7862823915ec7477944641bea022f4f62"
  }
 },
 "nbformat": 4,
 "nbformat_minor": 2,
 "cells": [
  {
   "source": [
    "# Chapter 1: Python Basics\n",
    "by [Arief Rahman Hakim](https://github.com/ahman24)\n",
    "\n",
    "\n",
    "## Solutions on Problems\n",
    "There are only a few of them I worked on."
   ],
   "cell_type": "markdown",
   "metadata": {}
  },
  {
   "source": [
    "1. Print “I love Python” using Python Shell."
   ],
   "cell_type": "markdown",
   "metadata": {}
  },
  {
   "cell_type": "code",
   "execution_count": 2,
   "metadata": {},
   "outputs": [
    {
     "output_type": "stream",
     "name": "stdout",
     "text": [
      "I love Python\n"
     ]
    }
   ],
   "source": [
    "print(\"I love Python\")"
   ]
  },
  {
   "source": [
    "2. Type import antigravity in the Ipython Shell, it will take you to xkcd and see the awesome Python."
   ],
   "cell_type": "markdown",
   "metadata": {}
  },
  {
   "cell_type": "code",
   "execution_count": 4,
   "metadata": {},
   "outputs": [],
   "source": [
    "import antigravity"
   ]
  },
  {
   "source": [
    "5. Compute the area of a triangle with base 10 and height 12. Recall that the area of a triangle is half the base times the height."
   ],
   "cell_type": "markdown",
   "metadata": {}
  },
  {
   "cell_type": "code",
   "execution_count": 8,
   "metadata": {},
   "outputs": [
    {
     "output_type": "stream",
     "name": "stdout",
     "text": [
      "60.0\n"
     ]
    }
   ],
   "source": [
    "def triangle(base, height):\n",
    "    area = 1/2 * base * height\n",
    "    return area\n",
    "\n",
    "# units in cm\n",
    "area = triangle(10, 12)\n",
    "print(area)"
   ]
  },
  {
   "source": [
    "6. Compute the surface area and volume of a cylinder with radius 5 and height 3."
   ],
   "cell_type": "markdown",
   "metadata": {}
  },
  {
   "cell_type": "code",
   "execution_count": 12,
   "metadata": {},
   "outputs": [
    {
     "output_type": "stream",
     "name": "stdout",
     "text": [
      "area is  78.54 cm2 and volume is  235.62 cm3\n"
     ]
    }
   ],
   "source": [
    "from math import pi\n",
    "\n",
    "def cylinder(r,h):\n",
    " \n",
    "     area = pi * r**2  volume = ppi area heh  return vovoarea, lume\n",
    "   # units in cm\n",
    "varea, volume  = cylinder(5,3)\n",
    "print()'area is ', round(area,2) ,'cm2 and volume is ', round(volume,2) ,'cm3'"
   ]
  },
  {
   "source": [
    "7 and 8. Compute the slope and distance between the points (3,4) and (5,9). Recall that the slope between points (x1,y1) and (x2,y2) is (y2−y1)/(x2−x1)"
   ],
   "cell_type": "markdown",
   "metadata": {}
  },
  {
   "cell_type": "code",
   "execution_count": 19,
   "metadata": {},
   "outputs": [
    {
     "output_type": "stream",
     "name": "stdout",
     "text": [
      "The slope is 4.0 and the distance is 4.12 .\n"
     ]
    }
   ],
   "source": [
    "import math\n",
    "def calc(x1,y1,x2,y2):\n",
    "    s = (y2-y1)/(x2-x1)\n",
    "    d = math.sqrt(math.pow((x2-x1),2) + math.pow((y2-y1),2))\n",
    "    return s,d\n",
    "\n",
    "slope,d = calc(3,5,4,9)\n",
    "print('The slope is', round(slope,2), 'and the distance is', round(d,2),'.')"
   ]
  },
  {
   "source": [
    "9. Use Python’s factorial function to compute 6!"
   ],
   "cell_type": "markdown",
   "metadata": {}
  },
  {
   "cell_type": "code",
   "execution_count": 54,
   "metadata": {},
   "outputs": [
    {
     "output_type": "stream",
     "name": "stdout",
     "text": [
      "The value of 6 ! is  720\n"
     ]
    }
   ],
   "source": [
    "# Python has a built-in factorial function factorial()\n",
    "# Here we develop our own factorial function to practice\n",
    "def calc_factorial(x):\n",
    "    if x < 0:\n",
    "        return print(\"Value cant be negative\")\n",
    " \n",
    "    elif x == 0:\n",
    "        return 1\n",
    "    elif x= > 1:\n",
    "        value = 1\n",
    "        for i in range(2,x+1):\n",
    "            value = value * i\n",
    "        return valux = 6\n",
    "value\n",
    "x calc_= factoriax-2)\n",
    "prin'The value of', t,'! is ', value)x)"
   ]
  },
  {
   "source": [
    "10. A year is considered to be 365 days long. However, a more exact figure is 365.24 days. As a consequence, if we held to the standard 365-day year, we would gradually lose that fraction of the day over time, and seasons and other astronomical events would not occur as expected. A leap year is a year that has an extra day, February 29, to keep the timescale on track. Leap years occur on years that are exactly divisible by 4, unless it is exactly divisible by 100, unless it is divisible by 400. For example, the year 2004 is a leap year, the year 1900 is not a leap year, and the year 2000 is a leap year."
   ],
   "cell_type": "markdown",
   "metadata": {}
  },
  {
   "cell_type": "code",
   "execution_count": 70,
   "metadata": {},
   "outputs": [
    {
     "output_type": "stream",
     "name": "stdout",
     "text": [
      "124\n"
     ]
    }
   ],
   "source": [
    "def is_leap_year(x):\n",
    "    if x % 4 == 0 and x % 100 != 0 or x % 400 == 0:\n",
    "        #print(x,'is a leap year')\n",
    "        return 1\n",
    "    else:\n",
    "        #print(x,'is not a leap year')\n",
    "        return 0\n",
    "\n",
    "year_start = 1500\n",
    "year_stop = 2010\n",
    "\n",
    "n_leap_year = 0\n",
    "for i in range (year_start, year_stop +1):\n",
    "    x = is_leap_year(i)\n",
    "    n_leap_year = n_leap_year + x\n",
    "print(n_leap_year)"
   ]
  },
  {
   "source": [
    "11. A very powerful approximation for π was developed by a brilliant mathematician named Srinivasa Ramanujan. The approximation is the following:\n",
    "\n",
    "$\\frac{1}{\\pi}$ $\\approx$ $\\frac{2 \\sqrt{2}}{9801}$ $\\sum_{k=0}^{N} \\frac{(4k)!(1103+26390k)}{(k!)^4 396^{4k}}$"
   ],
   "cell_type": "markdown",
   "metadata": {}
  },
  {
   "cell_type": "code",
   "execution_count": 84,
   "metadata": {},
   "outputs": [
    {
     "output_type": "stream",
     "name": "stdout",
     "text": [
      "For N=0,\nThe calculated pi is 3.1415927300133055 . The real pi is 3.141592653589793\nThe difference is 7.642351240733092e-08\n\n\nFor N=1,\nThe calculated pi is 3.1415926535897936 . The real pi is 3.141592653589793\nThe difference is 4.440892098500626e-16\n"
     ]
    }
   ],
   "source": [
    "import math\n",
    "def calc_pi(n):\n",
    "    term_1 = 2*math.sqrt(2)/9801\n",
    "    sum = 0\n",
    "    for k in range(0, n+1):\n",
    "        nominator =  calc_factorial(4*k)*(1103+26390*k)\n",
    "        denominator = math.pow(calc_factorial(k),4) * math.pow(396, 4*k)\n",
    "        sum = sum + nominator / denominator\n",
    "    term_2 = sum\n",
    "    final_term = term_1 * term_2\n",
    "    return 1/final_term\n",
    "\n",
    "calculated_pi = calc_pi(0)\n",
    "print('For N=0,')\n",
    "print('The calculated pi is', calculated_pi, '. The real pi is', math.pi)\n",
    "print('The difference is', abs(calculated_pi-math.pi))\n",
    "print('\\n')\n",
    "calculated_pi = calc_pi(1)\n",
    "print('For N=1,')\n",
    "print('The calculated pi is', calculated_pi, '. The real pi is', math.pi)\n",
    "print('The difference is', abs(calculated_pi-math.pi))"
   ]
  },
  {
   "source": [
    "12. The hyperbolic $sin$ or $sinh$ is defined in terms of exponentials as,\n",
    "\n",
    "$sinh(x)$ $=$ $\\frac{e^{x} − e^{-x}}{2}$\n",
    "\n",
    "Compute sinh for $x=2$ using exponentials. Verify that the result is indeed the hyperbolic sin using Python’s function sinh in the math module."
   ],
   "cell_type": "markdown",
   "metadata": {}
  },
  {
   "cell_type": "code",
   "execution_count": 87,
   "metadata": {},
   "outputs": [
    {
     "output_type": "stream",
     "name": "stdout",
     "text": [
      "For x= 2 , sinh by manual calculation is  3.626860407847019 . By math function, the sinh is 3.6268604078470186\nThe difference is  4.440892098500626e-16\n"
     ]
    }
   ],
   "source": [
    "import math\n",
    "def calc_sinh(x):\n",
    "    return (math.exp(x) - math.exp(-x))/2\n",
    "\n",
    "x = 2\n",
    "sinh_calc_manual = calc_sinh(x)\n",
    "sinh_math_func = math.sinh(x)\n",
    "print('For x=',x,', sinh by manual calculation is ',sinh_calc_manual,'. By math function, the sinh is', sinh_math_func)\n",
    "print('The difference is ',abs(sinh_calc_manual - sinh_math_func))"
   ]
  }
 ]
}